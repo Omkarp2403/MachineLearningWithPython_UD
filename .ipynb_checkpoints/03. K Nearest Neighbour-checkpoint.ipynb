{
 "cells": [
  {
   "cell_type": "markdown",
   "metadata": {},
   "source": [
    "# K Nearest Neighbour\n",
    "\n",
    "It assumes that similar things exist in close proximity.   \n",
    "Used for both classification and regression.  \n",
    "\n",
    "Algorithm:  \n",
    "Step 1: Choose the no. K of neighbours  \n",
    "Step 2: Take the K nearest neighbours of the new data points by Euclidean distance  \n",
    "Step 3: Among K Neighbours, count the no. of data points in each category  \n",
    "Step 4: Assign new data point to the category where you counted most neighbour  "
   ]
  },
  {
   "cell_type": "markdown",
   "metadata": {},
   "source": [
    "Case 1: K = 3, Solid Circle  - Assigned to Red Triangle Group  \n",
    "Case 2: K = 5, Dashed Circle  - Assigned to Blue Square Group  \n",
    "<img src=\"Image/KNN.JPG\" width=\"200\">\n",
    "<font size=1><center>Image Source:Wikipedia</center></font>"
   ]
  },
  {
   "cell_type": "code",
   "execution_count": 2,
   "metadata": {},
   "outputs": [
    {
     "name": "stdout",
     "output_type": "stream",
     "text": [
      "[[64  4]\n",
      " [ 3 29]]\n"
     ]
    }
   ],
   "source": [
    "# Importing the libraries\n",
    "import numpy as np\n",
    "import matplotlib.pyplot as plt\n",
    "import pandas as pd\n",
    "\n",
    "# Importing the dataset\n",
    "dataset = pd.read_csv('Data/Classification/Social_Network_Ads.csv')\n",
    "X = dataset.iloc[:, [2, 3]].values\n",
    "y = dataset.iloc[:, 4].values\n",
    "\n",
    "X = X.astype(float)\n",
    "y = y.astype(float)\n",
    "# Splitting the dataset into the Training set and Test set\n",
    "from sklearn.model_selection import train_test_split\n",
    "X_train, X_test, y_train, y_test = train_test_split(X, y, test_size = 0.25, random_state = 0)\n",
    "\n",
    "# Feature Scaling(Standardization)\n",
    "from sklearn.preprocessing import StandardScaler\n",
    "sc = StandardScaler()\n",
    "X_train = sc.fit_transform(X_train)\n",
    "X_test = sc.transform(X_test)\n",
    "\n",
    "# Fitting K-NN to the Training set\n",
    "from sklearn.neighbors import KNeighborsClassifier\n",
    "classifier = KNeighborsClassifier(n_neighbors = 5)\n",
    "classifier.fit(X_train, y_train)\n",
    "\n",
    "# Predicting the results on Test set\n",
    "y_pred = classifier.predict(X_test)\n",
    "\n",
    "# Creating the Confusion Matrix\n",
    "from sklearn.metrics import confusion_matrix\n",
    "cm = confusion_matrix(y_test, y_pred)\n",
    "\n",
    "print(cm)\n"
   ]
  },
  {
   "cell_type": "code",
   "execution_count": 3,
   "metadata": {},
   "outputs": [
    {
     "data": {
      "image/png": "[encoded data removed]",
      "text/plain": [
       "<Figure size 432x288 with 1 Axes>"
      ]
     },
     "metadata": {
      "needs_background": "light"
     },
     "output_type": "display_data"
    }
   ],
   "source": [
    "# Visualising the Training set results\n",
    "from matplotlib.colors import ListedColormap\n",
    "#Define Variables\n",
    "clf = classifier\n",
    "h = 0.1\n",
    "X_plot, z_plot = X_train, y_train \n",
    "\n",
    "#Template for all Regression\n",
    "x_min, x_max = X_plot[:, 0].min() - 1, X_plot[:, 0].max() + 1\n",
    "y_min, y_max = X_plot[:, 1].min() - 1, X_plot[:, 1].max() + 1\n",
    "xx, yy = np.meshgrid(np.arange(x_min, x_max, h),\n",
    "                     np.arange(y_min, y_max, h))\n",
    "\n",
    "\n",
    "# Plot the decision boundary. For that, we will assign a color to each\n",
    "# point in the mesh\n",
    "Z = clf.predict(np.array([xx.ravel(), yy.ravel()]).T)\n",
    "Z = Z.reshape(xx.shape)\n",
    "plt.contourf(xx, yy, Z,\n",
    "             alpha = 0.7, cmap = ListedColormap(('blue', 'red')))\n",
    "\n",
    "\n",
    "for i, j in enumerate(np.unique(z_plot)):\n",
    "    plt.scatter(X_plot[z_plot == j, 0], X_plot[z_plot == j, 1],\n",
    "                c = ['blue', 'red'][i], cmap = ListedColormap(('blue', 'red')), label = j)\n",
    "   #X[:, 0], X[:, 1] \n",
    "plt.xlim(xx.min(), xx.max())\n",
    "plt.ylim(yy.min(), yy.max())\n",
    "plt.title('K Nearest Neighbour')\n",
    "plt.xlabel('Independent Variable 1')\n",
    "plt.ylabel('Independent Variable 2')\n",
    "plt.legend()\n",
    "\n",
    "plt.show()"
   ]
  },
  {
   "cell_type": "code",
   "execution_count": null,
   "metadata": {},
   "outputs": [],
   "source": []
  },
  {
   "cell_type": "code",
   "execution_count": null,
   "metadata": {},
   "outputs": [],
   "source": []
  }
 ],
 "metadata": {
  "kernelspec": {
   "display_name": "Python 3",
   "language": "python",
   "name": "python3"
  },
  "language_info": {
   "codemirror_mode": {
    "name": "ipython",
    "version": 3
   },
   "file_extension": ".py",
   "mimetype": "text/x-python",
   "name": "python",
   "nbconvert_exporter": "python",
   "pygments_lexer": "ipython3",
   "version": "3.8.5"
  }
 },
 "nbformat": 4,
 "nbformat_minor": 2
}
